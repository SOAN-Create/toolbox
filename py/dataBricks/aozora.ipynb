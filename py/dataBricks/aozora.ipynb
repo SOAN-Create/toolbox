{
 "cells": [
  {
   "cell_type": "code",
   "execution_count": 1,
   "metadata": {},
   "outputs": [
    {
     "data": {
      "text/html": [
       "<style scoped>\n  .table-result-container {\n    max-height: 300px;\n    overflow: auto;\n  }\n  table, th, td {\n    border: 1px solid black;\n    border-collapse: collapse;\n  }\n  th, td {\n    padding: 5px;\n  }\n  th {\n    text-align: left;\n  }\n</style><div class='table-result-container'><table class='table-result'><thead style='background-color: white'><tr><th>book_id</th><th>title</th><th>title_sort</th><th>first_appearance3</th><th>subtitle</th><th>subtitle_yomi</th><th>original_title</th><th>first_appearance7</th><th>ndc_code</th><th>font_kana_type</th><th>copyright</th><th>release_date</th><th>last_modified</th><th>card_url</th><th>author_id</th><th>lastname</th><th>firstname</th><th>lastname_yomi</th><th>firstname_yomi</th><th>lastname_sort</th><th>firstname_sort</th><th>lastname_alphabet</th><th>fistname_alphabet</th><th>role</th><th>birthday</th><th>dead_day</th><th>author_copyright</th><th>base_book_1</th><th>base_book_1_publisher</th><th>base_book_1_1st_edition</th><th>base_book_1_edition_input</th><th>base_book_1_edition_proofing</th><th>base_book_1_parent</th><th>base_book_1_parent_publisher</th><th>base_book_1_parent_1st_edition</th><th>base_book_2</th><th>base_book_2_publisher</th><th>base_book_2_1st_edition</th><th>base_book_2_edition_input</th><th>base_book_2_edition_proofing</th><th>base_book_2_parent</th><th>base_book_2_parent_publisher</th><th>base_book_2_parent_1st_edition</th><th>input</th><th>proofing</th><th>text_url</th><th>text_last_modified</th><th>text_encoding</th><th>text_charset</th><th>text_updated</th><th>html_url</th><th>html_last_modified</th><th>html_encoding</th><th>html_charset</th><th>html_updated</th></tr></thead><tbody><tr><td>056078</td><td>駅伝馬車</td><td>えきでんばしゃ</td><td>えきてんはしや</td><td>null</td><td>null</td><td>null</td><td>null</td><td>NDC 933</td><td>旧字旧仮名</td><td>なし</td><td>2013-09-20</td><td>2014-09-16</td><td>https://www.aozora.gr.jp/cards/001257/card56078.html</td><td>001257</td><td>アーヴィング</td><td>ワシントン</td><td>アーヴィング</td><td>ワシントン</td><td>ああういんく</td><td>わしんとん</td><td>Irving</td><td>Washington</td><td>著者</td><td>1783-04-03</td><td>1859-11-28</td><td>なし</td><td>スケッチ・ブック</td><td>岩波文庫、岩波書店</td><td>1935（昭和10）年9月15日</td><td>2010（平成22）年2月23日第31刷</td><td>1992（平成4）年2月26日第30刷</td><td>null</td><td>null</td><td>null</td><td>null</td><td>null</td><td>null</td><td>null</td><td>null</td><td>null</td><td>null</td><td>null</td><td>雀</td><td>小林繁雄</td><td>https://www.aozora.gr.jp/cards/001257/files/56078_ruby_51155.zip</td><td>2013-09-03</td><td>ShiftJIS</td><td>JIS X 0208</td><td>0</td><td>https://www.aozora.gr.jp/cards/001257/files/56078_51422.html</td><td>2013-09-03</td><td>ShiftJIS</td><td>JIS X 0208</td><td>0</td></tr><tr><td>056033</td><td>クリスマス・イーヴ</td><td>クリスマス・イーヴ</td><td>くりすますいいう</td><td>null</td><td>null</td><td>null</td><td>null</td><td>NDC 933</td><td>旧字旧仮名</td><td>なし</td><td>2013-08-08</td><td>2014-09-16</td><td>https://www.aozora.gr.jp/cards/001257/card56033.html</td><td>001257</td><td>アーヴィング</td><td>ワシントン</td><td>アーヴィング</td><td>ワシントン</td><td>ああういんく</td><td>わしんとん</td><td>Irving</td><td>Washington</td><td>著者</td><td>1783-04-03</td><td>1859-11-28</td><td>なし</td><td>スケッチ・ブック</td><td>岩波文庫、岩波書店</td><td>1935（昭和10）年9月15日</td><td>2010（平成22）年2月23日第31刷</td><td>1937（昭和12）年5月30日第18刷</td><td>null</td><td>null</td><td>null</td><td>null</td><td>null</td><td>null</td><td>null</td><td>null</td><td>null</td><td>null</td><td>null</td><td>雀</td><td>小林繁雄</td><td>https://www.aozora.gr.jp/cards/001257/files/56033_ruby_50649.zip</td><td>2013-07-01</td><td>ShiftJIS</td><td>JIS X 0208</td><td>0</td><td>https://www.aozora.gr.jp/cards/001257/files/56033_50983.html</td><td>2013-07-01</td><td>ShiftJIS</td><td>JIS X 0208</td><td>0</td></tr><tr><td>046658</td><td>スリーピー・ホローの伝説</td><td>スリーピー・ホローのでんせつ</td><td>すりいひいほろおのてんせつ</td><td>故ディードリッヒ・ニッカボッカーの遺稿より</td><td>こディードリッヒ・ニッカボッカーのいこうより</td><td>THE LEGEND OF SLEEPY HOLLOW</td><td>null</td><td>NDC 933</td><td>新字新仮名</td><td>なし</td><td>2011-12-31</td><td>2014-09-16</td><td>https://www.aozora.gr.jp/cards/001257/card46658.html</td><td>001257</td><td>アーヴィング</td><td>ワシントン</td><td>アーヴィング</td><td>ワシントン</td><td>ああういんく</td><td>わしんとん</td><td>Irving</td><td>Washington</td><td>著者</td><td>1783-04-03</td><td>1859-11-28</td><td>なし</td><td>スケッチ・ブック</td><td>新潮文庫、新潮社</td><td>1957（昭和32）年5月20日</td><td>2000（平成12）年2月20日33刷改版</td><td>2000（平成12）年 2月20日33刷改版</td><td>null</td><td>null</td><td>null</td><td>null</td><td>null</td><td>null</td><td>null</td><td>null</td><td>null</td><td>null</td><td>null</td><td>鈴木厚司</td><td>砂場清隆</td><td>https://www.aozora.gr.jp/cards/001257/files/46658_ruby_44679.zip</td><td>2011-08-30</td><td>ShiftJIS</td><td>JIS X 0208</td><td>0</td><td>https://www.aozora.gr.jp/cards/001257/files/46658_44767.html</td><td>2011-08-30</td><td>ShiftJIS</td><td>JIS X 0208</td><td>0</td></tr><tr><td>054333</td><td>食品の混ぜ物処理および調理の毒物（1820）</td><td>しょくひんのまぜものしょりおよびちょうりのどくぶつ（せんはっぴゃくにじゅう）</td><td>しよくひんのませものしよりおよひちようりのとくふつせんはつひやくにしゆう</td><td>null</td><td>null</td><td>A TREATISE ON ADULTERATIONS OF FOOD, AND CULINARY POISONS (1820)</td><td>null</td><td>NDC 588</td><td>新字新仮名</td><td>あり</td><td>2011-11-21</td><td>2014-09-16</td><td>https://www.aozora.gr.jp/cards/001657/card54333.html</td><td>001657</td><td>アークム</td><td>フレデリック</td><td>アークム</td><td>フレデリック</td><td>ああくむ</td><td>ふれてりつく</td><td>Accum</td><td>Friedrich</td><td>著者</td><td>1769-03-29</td><td>1838-06-28</td><td>なし</td><td>null</td><td>null</td><td>null</td><td>null</td><td>null</td><td>null</td><td>null</td><td>null</td><td>null</td><td>null</td><td>null</td><td>null</td><td>null</td><td>null</td><td>null</td><td>null</td><td>null</td><td>null</td><td>null</td><td>null</td><td>null</td><td>null</td><td>null</td><td>http://www.geocities.jp/minakami30jp/accum/jaccum.html</td><td>2011-11-12</td><td>ShiftJIS</td><td>JIS X 0208</td><td>0</td></tr><tr><td>046340</td><td>ファラデーの伝</td><td>ファラデーのでん</td><td>ふあらてえのてん</td><td>電気学の泰斗</td><td>でんきがくのたいと</td><td>null</td><td>null</td><td>NDC 289</td><td>新字新仮名</td><td>なし</td><td>2006-12-24</td><td>2015-04-05</td><td>https://www.aozora.gr.jp/cards/001234/card46340.html</td><td>001234</td><td>愛知</td><td>敬一</td><td>あいち</td><td>けいいち</td><td>あいち</td><td>けいいち</td><td>Aichi</td><td>Keiichi</td><td>著者</td><td>1880-07-25</td><td>1923-06-23</td><td>なし</td><td>ファラデーの傳</td><td>岩波書店</td><td>1923（大正12）年5月15日</td><td>1923（大正12）年5月15日第1版</td><td>1923（大正12）年5月15日第1版</td><td>null</td><td>null</td><td>null</td><td>null</td><td>null</td><td>null</td><td>null</td><td>null</td><td>null</td><td>null</td><td>null</td><td>松本吉彦、松本庄八</td><td>小林繁雄</td><td>https://www.aozora.gr.jp/cards/001234/files/46340_ruby_24806.zip</td><td>2015-04-05</td><td>ShiftJIS</td><td>JIS X 0208</td><td>4</td><td>https://www.aozora.gr.jp/cards/001234/files/46340_24939.html</td><td>2015-04-05</td><td>ShiftJIS</td><td>JIS X 0208</td><td>4</td></tr><tr><td>046511</td><td>一片の石</td><td>いっぺんのいし</td><td>いつへんのいし</td><td>null</td><td>null</td><td>null</td><td>null</td><td>NDC 914</td><td>新字旧仮名</td><td>なし</td><td>2007-01-03</td><td>2014-09-18</td><td>https://www.aozora.gr.jp/cards/001245/card46511.html</td><td>001245</td><td>会津</td><td>八一</td><td>あいづ</td><td>やいち</td><td>あいつ</td><td>やいち</td><td>Aizu</td><td>Yaichi</td><td>著者</td><td>1881-08-01</td><td>1956-11-21</td><td>なし</td><td>日本の名随筆88　石</td><td>作品社</td><td>1990（平成2）年2月25日</td><td>1996（平成8）年8月25日第5刷</td><td>null</td><td>續　渾霽随筆</td><td>中公文庫、中央公論社</td><td>1980（昭和55）年1月</td><td>null</td><td>null</td><td>null</td><td>null</td><td>null</td><td>null</td><td>null</td><td>null</td><td>門田裕志</td><td>仙酔ゑびす</td><td>https://www.aozora.gr.jp/cards/001245/files/46511_ruby_25555.zip</td><td>2007-01-01</td><td>ShiftJIS</td><td>JIS X 0208</td><td>0</td><td>https://www.aozora.gr.jp/cards/001245/files/46511_25607.html</td><td>2007-01-01</td><td>ShiftJIS</td><td>JIS X 0208</td><td>0</td></tr><tr><td>057975</td><td>音楽に就いて</td><td>おんがくについて</td><td>おんかくについて</td><td>null</td><td>null</td><td>null</td><td>「興風」1922（大正11）年2月</td><td>NDC 914</td><td>旧字旧仮名</td><td>なし</td><td>2017-11-21</td><td>2017-10-25</td><td>https://www.aozora.gr.jp/cards/001245/card57975.html</td><td>001245</td><td>会津</td><td>八一</td><td>あいづ</td><td>やいち</td><td>あいつ</td><td>やいち</td><td>Aizu</td><td>Yaichi</td><td>著者</td><td>1881-08-01</td><td>1956-11-21</td><td>なし</td><td>會津八一全集　第七卷</td><td>中央公論社</td><td>1982（昭和57）年4月25日</td><td>1982（昭和57）年4月25日初版</td><td>1982（昭和57）年4月25日初版</td><td>會津八一全集</td><td>中央公論社</td><td>1969（昭和44）年</td><td>null</td><td>null</td><td>null</td><td>null</td><td>null</td><td>null</td><td>null</td><td>null</td><td>フクポー</td><td>鴨川佳一郎</td><td>https://www.aozora.gr.jp/cards/001245/files/57975_txt_63036.zip</td><td>2017-10-25</td><td>ShiftJIS</td><td>JIS X 0208</td><td>0</td><td>https://www.aozora.gr.jp/cards/001245/files/57975_63084.html</td><td>2017-10-25</td><td>ShiftJIS</td><td>JIS X 0208</td><td>0</td></tr><tr><td>057976</td><td>学規</td><td>がくき</td><td>かくき</td><td>null</td><td>null</td><td>null</td><td>null</td><td>NDC 914</td><td>旧字旧仮名</td><td>なし</td><td>2017-07-01</td><td>2017-06-25</td><td>https://www.aozora.gr.jp/cards/001245/card57976.html</td><td>001245</td><td>会津</td><td>八一</td><td>あいづ</td><td>やいち</td><td>あいつ</td><td>やいち</td><td>Aizu</td><td>Yaichi</td><td>著者</td><td>1881-08-01</td><td>1956-11-21</td><td>なし</td><td>會津八一全集　第七卷</td><td>中央公論社</td><td>1982（昭和57）年4月25日</td><td>1982（昭和57）年4月25日初版</td><td>1982（昭和57）年4月初版</td><td>null</td><td>null</td><td>null</td><td>null</td><td>null</td><td>null</td><td>null</td><td>null</td><td>null</td><td>null</td><td>null</td><td>フクポー</td><td>鴨川佳一郎</td><td>https://www.aozora.gr.jp/cards/001245/files/57976_txt_61953.zip</td><td>2017-06-13</td><td>ShiftJIS</td><td>JIS X 0208</td><td>0</td><td>https://www.aozora.gr.jp/cards/001245/files/57976_61955.html</td><td>2017-06-13</td><td>ShiftJIS</td><td>JIS X 0208</td><td>0</td></tr><tr><td>046512</td><td>菊の根分をしながら</td><td>きくのねわけをしながら</td><td>きくのねわけをしなから</td><td>null</td><td>null</td><td>null</td><td>null</td><td>NDC 914</td><td>新字旧仮名</td><td>なし</td><td>2007-01-03</td><td>2014-09-18</td><td>https://www.aozora.gr.jp/cards/001245/card46512.html</td><td>001245</td><td>会津</td><td>八一</td><td>あいづ</td><td>やいち</td><td>あいつ</td><td>やいち</td><td>Aizu</td><td>Yaichi</td><td>著者</td><td>1881-08-01</td><td>1956-11-21</td><td>なし</td><td>花の名随筆3　三月の花</td><td>作品社</td><td>1999（平成11）年2月10日</td><td>1999（平成11）年2月10日初版第1刷</td><td>null</td><td>會津八一全集　第七巻</td><td>中央公論社</td><td>1982（昭和57）年4月</td><td>null</td><td>null</td><td>null</td><td>null</td><td>null</td><td>null</td><td>null</td><td>null</td><td>門田裕志</td><td>仙酔ゑびす</td><td>https://www.aozora.gr.jp/cards/001245/files/46512_ruby_25556.zip</td><td>2007-01-01</td><td>ShiftJIS</td><td>JIS X 0208</td><td>0</td><td>https://www.aozora.gr.jp/cards/001245/files/46512_25608.html</td><td>2007-01-01</td><td>ShiftJIS</td><td>JIS X 0208</td><td>0</td></tr><tr><td>046513</td><td>支那の明器</td><td>しなのめいき</td><td>しなのめいき</td><td>null</td><td>null</td><td>null</td><td>null</td><td>NDC 914</td><td>新字旧仮名</td><td>なし</td><td>2007-01-03</td><td>2014-09-18</td><td>https://www.aozora.gr.jp/cards/001245/card46513.html</td><td>001245</td><td>会津</td><td>八一</td><td>あいづ</td><td>やいち</td><td>あいつ</td><td>やいち</td><td>Aizu</td><td>Yaichi</td><td>著者</td><td>1881-08-01</td><td>1956-11-21</td><td>なし</td><td>日本の名随筆　別巻9　骨董</td><td>作品社</td><td>1991（平成3）年11月25日</td><td>1999（平成11）年8月25日第6刷</td><td>null</td><td>會津八一全集　第七巻</td><td>中央公論社</td><td>1982（昭和57）年4月</td><td>null</td><td>null</td><td>null</td><td>null</td><td>null</td><td>null</td><td>null</td><td>null</td><td>門田裕志</td><td>仙酔ゑびす</td><td>https://www.aozora.gr.jp/cards/001245/files/46513_txt_25557.zip</td><td>2007-01-01</td><td>ShiftJIS</td><td>JIS X 0208</td><td>0</td><td>https://www.aozora.gr.jp/cards/001245/files/46513_25609.html</td><td>2007-01-01</td><td>ShiftJIS</td><td>JIS X 0208</td><td>0</td></tr></tbody></table></div>"
      ]
     },
     "metadata": {},
     "output_type": "execute_result"
    }
   ],
   "source": [
    "%sql\n",
    "SELECT * FROM aozoralist_csv limit 10"
   ]
  },
  {
   "cell_type": "code",
   "execution_count": 2,
   "metadata": {},
   "outputs": [
    {
     "data": {
      "text/html": [
       "<style scoped>\n  .ansiout {\n    display: block;\n    unicode-bidi: embed;\n    white-space: pre-wrap;\n    word-wrap: break-word;\n    word-break: break-all;\n    font-family: \"Source Code Pro\", \"Menlo\", monospace;;\n    font-size: 13px;\n    color: #555;\n    margin-left: 4px;\n    line-height: 19px;\n  }\n</style>\n<div class=\"ansiout\"></div>"
      ]
     },
     "metadata": {},
     "output_type": "execute_result"
    }
   ],
   "source": [
    "# データフレームに投入\n",
    "aozora_df = spark.sql('SELECT * FROM aozoralist_csv')\n",
    "# aozora_df.show()"
   ]
  },
  {
   "cell_type": "code",
   "execution_count": 3,
   "metadata": {},
   "outputs": [
    {
     "data": {
      "text/html": [
       "<style scoped>\n  .table-result-container {\n    max-height: 300px;\n    overflow: auto;\n  }\n  table, th, td {\n    border: 1px solid black;\n    border-collapse: collapse;\n  }\n  th, td {\n    padding: 5px;\n  }\n  th {\n    text-align: left;\n  }\n</style><div class='table-result-container'><table class='table-result'><thead style='background-color: white'><tr><th>release_year</th><th>count</th></tr></thead><tbody><tr><td>1997-01-01T00:00:00.000+0000</td><td>67</td></tr><tr><td>1998-01-01T00:00:00.000+0000</td><td>249</td></tr><tr><td>1999-01-01T00:00:00.000+0000</td><td>538</td></tr><tr><td>2000-01-01T00:00:00.000+0000</td><td>559</td></tr><tr><td>2001-01-01T00:00:00.000+0000</td><td>474</td></tr><tr><td>2002-01-01T00:00:00.000+0000</td><td>437</td></tr><tr><td>2003-01-01T00:00:00.000+0000</td><td>1405</td></tr><tr><td>2004-01-01T00:00:00.000+0000</td><td>866</td></tr><tr><td>2005-01-01T00:00:00.000+0000</td><td>728</td></tr><tr><td>2006-01-01T00:00:00.000+0000</td><td>928</td></tr><tr><td>2007-01-01T00:00:00.000+0000</td><td>1032</td></tr><tr><td>2008-01-01T00:00:00.000+0000</td><td>959</td></tr><tr><td>2009-01-01T00:00:00.000+0000</td><td>954</td></tr><tr><td>2010-01-01T00:00:00.000+0000</td><td>1217</td></tr><tr><td>2011-01-01T00:00:00.000+0000</td><td>1223</td></tr><tr><td>2012-01-01T00:00:00.000+0000</td><td>834</td></tr><tr><td>2013-01-01T00:00:00.000+0000</td><td>691</td></tr><tr><td>2014-01-01T00:00:00.000+0000</td><td>563</td></tr><tr><td>2015-01-01T00:00:00.000+0000</td><td>615</td></tr><tr><td>2016-01-01T00:00:00.000+0000</td><td>563</td></tr><tr><td>2017-01-01T00:00:00.000+0000</td><td>575</td></tr><tr><td>2018-01-01T00:00:00.000+0000</td><td>408</td></tr></tbody></table></div>"
      ]
     },
     "metadata": {},
     "output_type": "execute_result"
    }
   ],
   "source": [
    "from pyspark.sql import functions as fun\n",
    "\n",
    "# 必要カラムのみ抽出\n",
    "# 文字列型->日付型への変換\n",
    "release_aggregate = aozora_df.select(\n",
    "  'book_id', \n",
    "  'title',\n",
    "  'title_sort',\n",
    "  'subtitle',\n",
    "  'subtitle_yomi',\n",
    "  fun.to_timestamp('release_date', 'yyyy-MM-dd').alias('release_date'),\n",
    "  fun.to_timestamp('last_modified', 'yyyy-MM-dd').alias('last_modified'),\n",
    "  'author_id',\n",
    "  'birthday',\n",
    "  fun.to_timestamp('release_date', 'yyyy').alias('release_year'),\n",
    ")\n",
    "\n",
    "# リリース年で集計\n",
    "display(release_aggregate.groupby('release_year').count().sort('release_year'))"
   ]
  },
  {
   "cell_type": "code",
   "execution_count": 4,
   "metadata": {},
   "outputs": [],
   "source": [
    "# データの出力先設定\n",
    "database = 'xxxxx'\n",
    "dserver = 'xxxxxxxx'\n",
    "duser = 'xxxx'\n",
    "dpass = 'xxxxxxxx'\n",
    "dport = '1433'\n",
    "doptions = 'encrypt=true;trustServerCertificate=true;hostNameInCertificate=*.database.windows.net;loginTimeout=30;'\n",
    "sql_url = 'jdbc:sqlserver://' + dserver + '.database.windows.net:' + dport + ';database=' + database + ';user=' + duser + ';password=' + dpass\n",
    "\n",
    "table_name = 'aozora'\n",
    "\n",
    "connection_properties = {\n",
    "  'user': duser,\n",
    "  'password': dpass,\n",
    "  'driver': 'com.microsoft.sqlserver.jdbc.SQLServerDriver'\n",
    "}\n",
    "\n",
    "# 吐き出し\n",
    "release_aggregate.write.jdbc(url=sql_url, table=table_name, properties=connection_properties)"
   ]
  }
 ],
 "metadata": {
  "name": "aozora",
  "notebookId": 3.18376582165685E14
 },
 "nbformat": 4,
 "nbformat_minor": 0
}
